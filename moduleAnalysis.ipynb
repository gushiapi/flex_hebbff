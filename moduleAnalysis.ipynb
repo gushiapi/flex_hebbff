{
 "cells": [
  {
   "cell_type": "code",
   "execution_count": 5,
   "outputs": [],
   "source": [
    "import numpy as np\n",
    "import matplotlib.pyplot as plt\n",
    "import h5py"
   ],
   "metadata": {
    "collapsed": false,
    "ExecuteTime": {
     "start_time": "2023-04-13T16:40:49.863845Z",
     "end_time": "2023-04-13T16:40:49.866590Z"
    }
   }
  },
  {
   "cell_type": "code",
   "execution_count": null,
   "outputs": [],
   "source": [
    "epoch_earlystop = 60\n",
    "folder_name_r_5_rep_120_diff_data = []\n",
    "data_file_r_5_rep_120_diff_data = []\n",
    "\n",
    "def load_h5py_data(file_path):\n",
    "    with h5py.File(file_path, 'r') as f:\n",
    "        data = {}\n",
    "        for key in f.keys():\n",
    "            data[key] = np.array(f[key])\n",
    "        return data\n",
    "\n",
    "for i in range(1, 121):\n",
    "    folder_name_r_5_rep_120_diff_data.append(f\"r_5_rep_120_diff_data/{i}\")\n",
    "    data_file_r_5_rep_120_diff_data.append(load_h5py_data(f\"data/{folder_name_r_5_rep_120_diff_data[-1]}/moduleResult.mat\"))\n",
    "\n",
    "# visualization\n",
    "fig, axes = plt.subplots(1, 3, figsize=(15, 5))\n",
    "\n",
    "# First plot\n",
    "for i in range(120):\n",
    "    axes[0].plot(data_file_r_5_rep_120_diff_data[i][\"flexibility\"])\n",
    "axes[0].set_ylabel('flexibility')\n",
    "axes[0].set_xlabel('epoch')\n",
    "\n",
    "# Second plot\n",
    "for i in range(120):\n",
    "    axes[1].plot(data_file_r_5_rep_120_diff_data[i][\"acc\"][0, :epoch_earlystop])\n",
    "axes[1].set_ylabel('accuracy')\n",
    "axes[1].set_xlabel('epoch')\n",
    "\n",
    "# Third plot\n",
    "for i in range(120):\n",
    "    axes[2].scatter(data_file_r_5_rep_120_diff_data[i][\"flexibility\"], data_file_r_5_rep_120_diff_data[i][\"acc\"][0, :epoch_earlystop])\n",
    "axes[2].set_ylabel('accuracy')\n",
    "axes[2].set_xlabel('flexibility')\n",
    "\n",
    "plt.show()\n"
   ],
   "metadata": {
    "collapsed": false,
    "pycharm": {
     "is_executing": true
    }
   }
  },
  {
   "cell_type": "code",
   "execution_count": null,
   "outputs": [],
   "source": [],
   "metadata": {
    "collapsed": false,
    "pycharm": {
     "is_executing": true
    }
   }
  }
 ],
 "metadata": {
  "kernelspec": {
   "display_name": "Python 3",
   "language": "python",
   "name": "python3"
  },
  "language_info": {
   "codemirror_mode": {
    "name": "ipython",
    "version": 2
   },
   "file_extension": ".py",
   "mimetype": "text/x-python",
   "name": "python",
   "nbconvert_exporter": "python",
   "pygments_lexer": "ipython2",
   "version": "2.7.6"
  }
 },
 "nbformat": 4,
 "nbformat_minor": 0
}
